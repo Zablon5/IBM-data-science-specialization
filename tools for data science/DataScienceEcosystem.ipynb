{
 "cells": [
  {
   "cell_type": "markdown",
   "id": "47914586-6c94-48ef-9fb6-16ceac251608",
   "metadata": {},
   "source": [
    "# Data Science Tools and Ecosystem"
   ]
  },
  {
   "cell_type": "markdown",
   "id": "603f106e-6b8a-4efc-b460-95047f776830",
   "metadata": {},
   "source": [
    "## In this notebook, Data Science Tools and Ecosystem are summarized."
   ]
  },
  {
   "cell_type": "markdown",
   "id": "de92e8cb-e191-48e7-8691-463f5e69cffc",
   "metadata": {},
   "source": [
    "### Some of the popular languages that Data Scientists use are:\n",
    "\n",
    "1. Python\n",
    "2. R\n",
    "3. Java\n",
    "4. SQL\n",
    "5. Julia\n",
    "6. Scala"
   ]
  },
  {
   "cell_type": "markdown",
   "id": "6d3ccd83-b0f7-404e-8f18-22809784ea53",
   "metadata": {},
   "source": [
    "**Objectives:**\n",
    "\n",
    "- Create a Jupyter Notebook\n",
    "- Create markdown cells with different headings\n",
    "- List data science languages\n",
    "- List data science libraries\n",
    "- Create Tables\n",
    "- Introduce basic arithmetic"
   ]
  },
  {
   "cell_type": "markdown",
   "id": "b7335118-b468-4693-993d-cae1d42f84f7",
   "metadata": {},
   "source": [
    "### Some of the commonly used libraries used by Data Scientists include:\n",
    "\n",
    "1. NumPy.\n",
    "2. Keras.\n",
    "3. Pandas.\n",
    "4. PyTorch.\n",
    "5. SciPy.\n",
    "6. Scikit-Learn.\n",
    "7. TensorFlow.\n",
    "8. Matplotlib."
   ]
  },
  {
   "cell_type": "markdown",
   "id": "22cd1b27-18f0-4654-9245-06a4cfb76839",
   "metadata": {},
   "source": [
    "|Data Science Tools|\n",
    "|--------------------|\n",
    "|Jupyter Notebook|\n",
    "|Rstudio|\n",
    "|Apache zeppelin|"
   ]
  },
  {
   "cell_type": "markdown",
   "id": "bb413208-2c69-4c4c-a2ef-dd45f734498d",
   "metadata": {},
   "source": [
    "### Below are a few examples of evaluating arithmetic expressions in Python.\n",
    "\n",
    "1. Addition\n",
    " - result = 5+3 ->  **result = 8**\n",
    "\n",
    "2. Subtraction\n",
    " - result = 5-3 ->  **result = 2**\n",
    " \n",
    "3. Multiplication\n",
    " - result = 5*3 ->  **result = 15**\n",
    " \n",
    "4. Division\n",
    " - result = 5+3 ->  **result = 1.6666666666666667**"
   ]
  },
  {
   "cell_type": "code",
   "execution_count": 2,
   "id": "fc6c4b0a-cc22-4e9b-8303-8ea2ae6b9a97",
   "metadata": {
    "tags": []
   },
   "outputs": [
    {
     "data": {
      "text/plain": [
       "17"
      ]
     },
     "execution_count": 2,
     "metadata": {},
     "output_type": "execute_result"
    }
   ],
   "source": [
    "# This a simple arithmetic expression to mutiply then add integers.\n",
    "(3*4)+5"
   ]
  },
  {
   "cell_type": "code",
   "execution_count": 3,
   "id": "810a4ab2-52ce-41fd-86b0-3fbaa54122ec",
   "metadata": {
    "tags": []
   },
   "outputs": [
    {
     "data": {
      "text/plain": [
       "3.3333333333333335"
      ]
     },
     "execution_count": 3,
     "metadata": {},
     "output_type": "execute_result"
    }
   ],
   "source": [
    "# This will convert 200 minutes to hours by diving by 60.\n",
    "200/60"
   ]
  },
  {
   "cell_type": "markdown",
   "id": "77d5b484-2e8b-43ee-a035-0dc9a63e33fd",
   "metadata": {},
   "source": [
    "## Author\n",
    "Zerihun Girma"
   ]
  }
 ],
 "metadata": {
  "kernelspec": {
   "display_name": "Python",
   "language": "python",
   "name": "conda-env-python-py"
  },
  "language_info": {
   "codemirror_mode": {
    "name": "ipython",
    "version": 3
   },
   "file_extension": ".py",
   "mimetype": "text/x-python",
   "name": "python",
   "nbconvert_exporter": "python",
   "pygments_lexer": "ipython3",
   "version": "3.7.12"
  }
 },
 "nbformat": 4,
 "nbformat_minor": 5
}
